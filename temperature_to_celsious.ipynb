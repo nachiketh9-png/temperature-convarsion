{
  "nbformat": 4,
  "nbformat_minor": 0,
  "metadata": {
    "colab": {
      "provenance": []
    },
    "kernelspec": {
      "name": "python3",
      "display_name": "Python 3"
    },
    "language_info": {
      "name": "python"
    }
  },
  "cells": [
    {
      "cell_type": "code",
      "execution_count": 1,
      "metadata": {
        "colab": {
          "base_uri": "https://localhost:8080/"
        },
        "id": "cO2a3U69CBnU",
        "outputId": "f7ebad12-e9a8-4ec0-f893-f437b249d95c"
      },
      "outputs": [
        {
          "output_type": "stream",
          "name": "stdout",
          "text": [
            "enter temperature in celsius:40\n",
            "temperature in fahrenheit: 104.0\n"
          ]
        }
      ],
      "source": [
        "celsius=float(input(\"enter temperature in celsius:\"))\n",
        "fahrenheit=(celsius*9/5)+32\n",
        "print(\"temperature in fahrenheit:\",fahrenheit)"
      ]
    }
  ]
}